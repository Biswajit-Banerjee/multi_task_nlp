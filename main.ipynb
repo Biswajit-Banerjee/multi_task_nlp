{
 "cells": [
  {
   "cell_type": "code",
   "execution_count": 1,
   "id": "62d3a826",
   "metadata": {},
   "outputs": [],
   "source": [
    "import pandas as pd\n",
    "import torch\n",
    "from itertools import zip_longest\n",
    "\n",
    "# local imports\n",
    "from src.dataset import load_dataset\n",
    "from src.train   import train_model\n",
    "from src.models  import ATISMultiTaskModel as Model\n",
    "from src.models  import SentenceEncoder as Encoder\n",
    "from src.utils   import plot_metrics\n",
    "\n",
    "import warnings\n",
    "warnings.filterwarnings('ignore')\n",
    "\n",
    "import os\n",
    "os.environ[\"TOKENIZERS_PARALLELISM\"] = \"false\"\n",
    "\n",
    "device = torch.device(\"cuda\" if torch.cuda.is_available() else \"cpu\")"
   ]
  },
  {
   "cell_type": "markdown",
   "id": "65307468",
   "metadata": {},
   "source": [
    "## Task 0: Data"
   ]
  },
  {
   "cell_type": "code",
   "execution_count": 2,
   "id": "890a791d",
   "metadata": {},
   "outputs": [],
   "source": [
    "train_ds, val_ds = load_dataset('data')"
   ]
  },
  {
   "cell_type": "code",
   "execution_count": 3,
   "id": "386a6a42",
   "metadata": {},
   "outputs": [
    {
     "name": "stdout",
     "output_type": "stream",
     "text": [
      "     Word       | TokenID |    Entity    | EntID  | Mask\n",
      "--------------------------------------------------------\n",
      "       i        |  1045   |      X       |   8    |  1 \n",
      "     need       |  2342   |      X       |   8    |  1 \n",
      "       a        |  1037   |      X       |   8    |  1 \n",
      "    flight      |  3462   |      X       |   8    |  1 \n",
      "   tomorrow     |  4826   |   DateTime   |   7    |  1 \n",
      "     from       |  2013   |      X       |   8    |  1 \n",
      "   columbus     |  8912   |   Location   |   9    |  1 \n",
      "      to        |  2000   |      X       |   8    |  1 \n",
      "  minneapolis   |  11334  |   Location   |   9    |  1 \n",
      "     [PAD]      |    0    |    [PAD]     |   0    |  0 \n",
      "     [PAD]      |    0    |    [PAD]     |   0    |  0 \n",
      "     [PAD]      |    0    |    [PAD]     |   0    |  0 \n"
     ]
    }
   ],
   "source": [
    "\n",
    "'''Demonstration purpose only'''\n",
    "\n",
    "record = train_ds[5]\n",
    "gt = record['gt']\n",
    "\n",
    "words      = gt[1].split()\n",
    "\n",
    "# pull out the first 12 of each\n",
    "tokens     = record['input_ids'].tolist()[:12]\n",
    "entities   = gt[2][:12]\n",
    "entity_ids = record['slot_labels'].tolist()[:12] # type: ignore\n",
    "mask       = record['attention_mask'].tolist()[:12]\n",
    "\n",
    "# zip them together and print a table\n",
    "header = f\"{'Word':^15s} | {'TokenID':^7s} | {'Entity':^12s} | {'EntID':^6s} | {'Mask':^4s}\"\n",
    "print(header)\n",
    "print(\"-\" * len(header))\n",
    "for w, t, e, eid, m in zip_longest(words, tokens, entities, entity_ids, mask, fillvalue=\"[PAD]\"):\n",
    "    print(f\"{w:^15s} | {str(t):^7s} | {e:^12s} | {str(eid):^6s} | {str(m):^3s}\")"
   ]
  },
  {
   "cell_type": "markdown",
   "id": "cb609ac9",
   "metadata": {},
   "source": [
    "##### Dataset Overview\n",
    "\n",
    "This project uses a **curated subset** of the Airline Travel Information System (ATIS) corpus. Each example consists of a user’s flight-related utterance, annotated with:\n",
    "\n",
    "- **Intent**: the user’s overall goal (e.g. searching for flights, checking fares).  \n",
    "- **Entities**: token-level labels indicating semantic categories (e.g. cities, times).\n",
    "\n",
    "---\n",
    "\n",
    "##### Example Record\n",
    "\n",
    "```json\n",
    "{\n",
    "  \"text\":    \"i need a flight tomorrow from columbus to minneapolis\",\n",
    "  \"entities\":[\"X\",\"X\",\"X\",\"X\",\"DateTime\",\"X\",\"Location\",\"X\",\"Location\"],\n",
    "  \"intent\":  \"Flight\"\n",
    "}\n",
    "```\n",
    "---\n",
    "\n",
    "\n",
    "Here:\n",
    "\n",
    "- **text**: raw user utterance  \n",
    "- **entities**: one tag per token ('X' = no entity)  \n",
    "- **intent**: high-level query category  \n",
    "> **Note:** `X` corresponds to 'other (uninteresting)' category.\n",
    "\n",
    "##### Modeling Tasks\n",
    "\n",
    "1. Intent Classification \n",
    "   - Build a classifier that takes an utterance and predicts its **intent** label.\n",
    "   - 8 intent classes ('Fare', 'Meal', 'Capacity', 'FlightInfo', 'Location', 'Flight', 'Restriction', 'Schedule')\n",
    "\n",
    "2. Named Entity Recognition (NER) \n",
    "   - Perform token-level labeling to assign each word in the utterance one of the **entity** tags.\n",
    "   - 9 Entities ('X', 'Airline', 'Meal', 'Location', 'Modifier', 'DateTime', 'FlightDetails', 'Identifier', 'Price')\n",
    "\n",
    "\n",
    "##### Dataset\n",
    "The data set consists of below keys\n",
    "- **input_ids**: the text tokenized using bert tokenizer consisting of a vocab of size 30522\n",
    "- **attention_mask**: 1 where word valid 0 for padding\n",
    "- **intent_label**: label encoded intent\n",
    "- **slot_labels**: label encoded entities / slot\n",
    "\n",
    "All sentences are padded to `100` while 0 represents padding for all positions except intent_label\n",
    "> **Assumption**: BERT tokenizer adds special tokens ([CLS], [SEP]) which has been disabled and a naive `one-entity-per-word` is assumed. \n",
    "\n",
    "Note: \"slot\" and \"entity\" are synonymous in this codebase (I inherited 'slot' from the original data).\n",
    "\n",
    "\n",
    "For additional filtering steps and exploratory data analysis, please see `notebooks/dataset.ipynb`."
   ]
  },
  {
   "cell_type": "markdown",
   "id": "dff02404",
   "metadata": {},
   "source": [
    "## Task 1: Sentence Transformer Implementation"
   ]
  },
  {
   "cell_type": "markdown",
   "id": "e676fa02",
   "metadata": {},
   "source": [
    "Below is a Transformer encoder similar to BERT’s backbone, plus a thin wrapper for sentence-level embeddings. it consists of \n",
    "\n",
    "- **Token Embedding** – maps input token IDs to dense vectors.\n",
    "- **Positional Encoding** – adds sinusoidal position information.\n",
    "- **Transformer Encoder Stack** – N identical layers of multi-head attention + feed-forward.\n",
    "- **Sentence Encoder** – wraps the backbone and applies mean-pooling to produce fixed-size sentence vectors.\n",
    "\n",
    "\n",
    "```Text\n",
    "SentenceEncoder\n",
    "└─ backbone: CustomEncoder\n",
    "   ├─ Embedding (30,522 → <d_model>)\n",
    "   ├─ PositionalEncoding (dropout=0.1)\n",
    "   └─ TransformerEncoder (6× layers)\n",
    "      └─ TransformerEncoderLayer (repeated 6×)\n",
    "         ├─ MultiHeadAttention (<d_model> → <d_model>)\n",
    "         ├─ FeedForward (<d_model> → 2048 → <d_model>)\n",
    "         ├─ LayerNorm (ϵ=1e-5) ×2\n",
    "         └─ Dropout (p=0.1) ×2\n",
    "```"
   ]
  },
  {
   "cell_type": "code",
   "execution_count": 4,
   "id": "24c518cc",
   "metadata": {},
   "outputs": [
    {
     "name": "stdout",
     "output_type": "stream",
     "text": [
      "64-dim encoder output shape: torch.Size([1, 64])\n",
      "32-dim encoder output shape: torch.Size([1, 32])\n",
      "16-dim encoder output shape: torch.Size([1, 16])\n"
     ]
    }
   ],
   "source": [
    "'''Demonstration purpose only'''\n",
    "\n",
    "dims = [64, 32, 16]\n",
    "\n",
    "input_ids      = record['input_ids'].unsqueeze(0).to(device)\n",
    "attention_mask = record['attention_mask'].unsqueeze(0).to(device)\n",
    "\n",
    "for d in dims:\n",
    "    enc =  Encoder(\"custom\", d).to(device)\n",
    "    with torch.no_grad():\n",
    "        e = enc(input_ids, attention_mask)\n",
    "    \n",
    "    # free gpu/dpu memory\n",
    "    del enc\n",
    "        \n",
    "    print(f\"{d}-dim encoder output shape: {e.shape}\")"
   ]
  },
  {
   "cell_type": "markdown",
   "id": "226b127b",
   "metadata": {},
   "source": [
    "## Task 2: Multi-Task Learning Expansion "
   ]
  },
  {
   "cell_type": "markdown",
   "id": "e86d6327",
   "metadata": {},
   "source": [
    "Below is a model that extends upon the earlier encoder backbone. Below are the additions \n",
    "\n",
    "- **intent_head**:\n",
    "  - A simple feed-forward network to project the latent to intent.\n",
    "  - Takes the pooled sentence embedding i.e the mean‐over‐tokens.\n",
    "  - Shape (batch, d_model)\n",
    "  - Sentence level Classification \n",
    "- **slot_head** \n",
    "  - To further contextualize token representations before labeling A `transformer block` to project the latent to entities/slot.\n",
    "  - Takes the last layer hidden states from the backbone.\n",
    "  - Shape (batch, seq_len, num_slots)\n",
    "  - token-level classification\n",
    "\n",
    "\n",
    "#### Loss\n",
    "```python\n",
    "loss_intent = CE(intent_logits, intent_labels)\n",
    "loss_slot   = CE(slot_logits.view(-1, num_slots),\n",
    "                 slot_labels.view(-1))\n",
    "loss = (λ1 * loss_intent) + (λ2 * loss_slot)\n",
    "```\n",
    "Here λ1 and λ2 are relative weights, Where `λ2 > λ1` to prioritize improving token-level performance.\n",
    "\n",
    "\n",
    "```Text\n",
    "\n",
    "MultiTaskModel\n",
    "└─ encoder: SentenceEncoder\n",
    "|  └─ backbone: CustomEncoder\n",
    "|     ├─ Embedding (30,522 → <d_model>)\n",
    "|     ├─ PositionalEncoding (dropout=0.1)\n",
    "|     └─ TransformerEncoder (6× layers)\n",
    "|        └─ TransformerEncoderLayer (repeated 6×)\n",
    "|           ├─ MultiHeadAttention (<d_model> → <d_model>)\n",
    "|           ├─ FeedForward (<d_model> → 2048 → <d_model>)\n",
    "|           ├─ LayerNorm (ϵ=1e-5) ×2\n",
    "|           └─ Dropout (p=0.1) ×2\n",
    "|\n",
    "└─ intent_head: Linear(<d_model> → 8)\n",
    "└─ slot_head:   Transformer\n",
    "    ├─ TransformerEncoderLayer\n",
    "    │  ├─ MultiHeadAttention (<d_model> → <d_model>)\n",
    "    │  ├─ FeedForward (<d_model> → 2048 → <d_model>)\n",
    "    │  ├─ LayerNorm (ϵ=1e-5) ×2\n",
    "    │  └─ Dropout (p=0.2) ×2\n",
    "    │\n",
    "    └─ Linear (<d_model> → 10)\n",
    "\n",
    "```"
   ]
  },
  {
   "cell_type": "code",
   "execution_count": 5,
   "id": "f6d8377f",
   "metadata": {},
   "outputs": [],
   "source": [
    "encoder =  Encoder(\"custom\", 512).to(device)\n",
    "model = Model(encoder).to(device)"
   ]
  },
  {
   "cell_type": "code",
   "execution_count": 6,
   "id": "23709602",
   "metadata": {},
   "outputs": [
    {
     "name": "stderr",
     "output_type": "stream",
     "text": [
      "                                                                                               \r"
     ]
    },
    {
     "name": "stdout",
     "output_type": "stream",
     "text": [
      "Epoch  0 | Train > Loss: 0.6948 | Intent Acc: 69.99% | Entity F1: 3.60% || Val   > Loss: 0.6226 | Intent Acc: 71.48% | Entity F1: 3.35%\n"
     ]
    },
    {
     "name": "stderr",
     "output_type": "stream",
     "text": [
      "                                                                                               \r"
     ]
    },
    {
     "name": "stdout",
     "output_type": "stream",
     "text": [
      "Epoch  1 | Train > Loss: 0.5813 | Intent Acc: 73.15% | Entity F1: 2.47% || Val   > Loss: 0.5821 | Intent Acc: 71.48% | Entity F1: 3.35%\n"
     ]
    },
    {
     "name": "stderr",
     "output_type": "stream",
     "text": [
      "                                                                                               \r"
     ]
    },
    {
     "name": "stdout",
     "output_type": "stream",
     "text": [
      "Epoch  2 | Train > Loss: 0.4162 | Intent Acc: 75.00% | Entity F1: 33.30% || Val   > Loss: 0.3135 | Intent Acc: 80.85% | Entity F1: 58.37%\n"
     ]
    },
    {
     "name": "stderr",
     "output_type": "stream",
     "text": [
      "                                                                                               \r"
     ]
    },
    {
     "name": "stdout",
     "output_type": "stream",
     "text": [
      "Epoch  3 | Train > Loss: 0.2424 | Intent Acc: 84.42% | Entity F1: 62.55% || Val   > Loss: 0.2415 | Intent Acc: 84.76% | Entity F1: 63.54%\n"
     ]
    },
    {
     "name": "stderr",
     "output_type": "stream",
     "text": [
      "                                                                                               \r"
     ]
    },
    {
     "name": "stdout",
     "output_type": "stream",
     "text": [
      "Epoch  4 | Train > Loss: 0.1998 | Intent Acc: 87.82% | Entity F1: 65.36% || Val   > Loss: 0.2183 | Intent Acc: 86.65% | Entity F1: 64.60%\n"
     ]
    },
    {
     "name": "stderr",
     "output_type": "stream",
     "text": [
      "                                                                                               \r"
     ]
    },
    {
     "name": "stdout",
     "output_type": "stream",
     "text": [
      "Epoch  5 | Train > Loss: 0.1680 | Intent Acc: 90.85% | Entity F1: 68.48% || Val   > Loss: 0.2007 | Intent Acc: 88.55% | Entity F1: 69.85%\n"
     ]
    },
    {
     "name": "stderr",
     "output_type": "stream",
     "text": [
      "                                                                                               \r"
     ]
    },
    {
     "name": "stdout",
     "output_type": "stream",
     "text": [
      "Epoch  6 | Train > Loss: 0.1536 | Intent Acc: 91.47% | Entity F1: 70.88% || Val   > Loss: 0.1870 | Intent Acc: 89.00% | Entity F1: 71.00%\n"
     ]
    },
    {
     "name": "stderr",
     "output_type": "stream",
     "text": [
      "                                                                                               \r"
     ]
    },
    {
     "name": "stdout",
     "output_type": "stream",
     "text": [
      "Epoch  7 | Train > Loss: 0.1395 | Intent Acc: 92.92% | Entity F1: 72.60% || Val   > Loss: 0.1778 | Intent Acc: 90.00% | Entity F1: 72.35%\n"
     ]
    },
    {
     "name": "stderr",
     "output_type": "stream",
     "text": [
      "                                                                                               \r"
     ]
    },
    {
     "name": "stdout",
     "output_type": "stream",
     "text": [
      "Epoch  8 | Train > Loss: 0.1312 | Intent Acc: 93.89% | Entity F1: 73.06% || Val   > Loss: 0.1798 | Intent Acc: 89.56% | Entity F1: 72.85%\n"
     ]
    },
    {
     "name": "stderr",
     "output_type": "stream",
     "text": [
      "                                                                                               "
     ]
    },
    {
     "name": "stdout",
     "output_type": "stream",
     "text": [
      "Epoch  9 | Train > Loss: 0.1297 | Intent Acc: 93.43% | Entity F1: 73.83% || Val   > Loss: 0.1749 | Intent Acc: 89.89% | Entity F1: 73.16%\n"
     ]
    },
    {
     "name": "stderr",
     "output_type": "stream",
     "text": [
      "\r"
     ]
    }
   ],
   "source": [
    "custom_metrics = train_model(train_ds, val_ds, model, epochs=10)"
   ]
  },
  {
   "cell_type": "code",
   "execution_count": 10,
   "id": "f6457545",
   "metadata": {},
   "outputs": [
    {
     "data": {
      "image/png": "[encoded data removed]",
      "text/plain": [
       "<Figure size 1200x800 with 4 Axes>"
      ]
     },
     "metadata": {},
     "output_type": "display_data"
    }
   ],
   "source": [
    "plot_metrics(custom_metrics, \"Multi Task Learning with Custom Backbone\")"
   ]
  },
  {
   "cell_type": "markdown",
   "id": "dbdaf9bf",
   "metadata": {},
   "source": [
    "### Task 3: Training Considerations "
   ]
  },
  {
   "cell_type": "markdown",
   "id": "c6616ff8",
   "metadata": {},
   "source": [
    "### Task 4: Training Loop Implementation (BONUS)"
   ]
  },
  {
   "cell_type": "markdown",
   "id": "1f468e58",
   "metadata": {},
   "source": [
    "### Metrics "
   ]
  },
  {
   "cell_type": "code",
   "execution_count": 8,
   "id": "b7f4d29e",
   "metadata": {},
   "outputs": [
    {
     "data": {
      "text/html": [
       "<div>\n",
       "<style scoped>\n",
       "    .dataframe tbody tr th:only-of-type {\n",
       "        vertical-align: middle;\n",
       "    }\n",
       "\n",
       "    .dataframe tbody tr th {\n",
       "        vertical-align: top;\n",
       "    }\n",
       "\n",
       "    .dataframe thead th {\n",
       "        text-align: right;\n",
       "    }\n",
       "</style>\n",
       "<table border=\"1\" class=\"dataframe\">\n",
       "  <thead>\n",
       "    <tr style=\"text-align: right;\">\n",
       "      <th></th>\n",
       "      <th>train_loss</th>\n",
       "      <th>train_intent_loss</th>\n",
       "      <th>train_entity_loss</th>\n",
       "      <th>train_intent_acc</th>\n",
       "      <th>train_entity_f1</th>\n",
       "      <th>val_loss</th>\n",
       "      <th>val_intent_loss</th>\n",
       "      <th>val_entity_loss</th>\n",
       "      <th>val_intent_acc</th>\n",
       "      <th>val_entity_f1</th>\n",
       "      <th>epoch</th>\n",
       "    </tr>\n",
       "  </thead>\n",
       "  <tbody>\n",
       "    <tr>\n",
       "      <th>0</th>\n",
       "      <td>0.69</td>\n",
       "      <td>1.00</td>\n",
       "      <td>0.56</td>\n",
       "      <td>0.70</td>\n",
       "      <td>0.04</td>\n",
       "      <td>0.62</td>\n",
       "      <td>1.06</td>\n",
       "      <td>0.44</td>\n",
       "      <td>0.71</td>\n",
       "      <td>0.03</td>\n",
       "      <td>0</td>\n",
       "    </tr>\n",
       "    <tr>\n",
       "      <th>1</th>\n",
       "      <td>0.58</td>\n",
       "      <td>0.89</td>\n",
       "      <td>0.45</td>\n",
       "      <td>0.73</td>\n",
       "      <td>0.02</td>\n",
       "      <td>0.58</td>\n",
       "      <td>1.01</td>\n",
       "      <td>0.40</td>\n",
       "      <td>0.71</td>\n",
       "      <td>0.03</td>\n",
       "      <td>1</td>\n",
       "    </tr>\n",
       "    <tr>\n",
       "      <th>2</th>\n",
       "      <td>0.42</td>\n",
       "      <td>0.80</td>\n",
       "      <td>0.25</td>\n",
       "      <td>0.75</td>\n",
       "      <td>0.33</td>\n",
       "      <td>0.31</td>\n",
       "      <td>0.74</td>\n",
       "      <td>0.13</td>\n",
       "      <td>0.81</td>\n",
       "      <td>0.58</td>\n",
       "      <td>2</td>\n",
       "    </tr>\n",
       "    <tr>\n",
       "      <th>3</th>\n",
       "      <td>0.24</td>\n",
       "      <td>0.52</td>\n",
       "      <td>0.12</td>\n",
       "      <td>0.84</td>\n",
       "      <td>0.63</td>\n",
       "      <td>0.24</td>\n",
       "      <td>0.54</td>\n",
       "      <td>0.11</td>\n",
       "      <td>0.85</td>\n",
       "      <td>0.64</td>\n",
       "      <td>3</td>\n",
       "    </tr>\n",
       "    <tr>\n",
       "      <th>4</th>\n",
       "      <td>0.20</td>\n",
       "      <td>0.40</td>\n",
       "      <td>0.11</td>\n",
       "      <td>0.88</td>\n",
       "      <td>0.65</td>\n",
       "      <td>0.22</td>\n",
       "      <td>0.47</td>\n",
       "      <td>0.11</td>\n",
       "      <td>0.87</td>\n",
       "      <td>0.65</td>\n",
       "      <td>4</td>\n",
       "    </tr>\n",
       "    <tr>\n",
       "      <th>5</th>\n",
       "      <td>0.17</td>\n",
       "      <td>0.31</td>\n",
       "      <td>0.11</td>\n",
       "      <td>0.91</td>\n",
       "      <td>0.68</td>\n",
       "      <td>0.20</td>\n",
       "      <td>0.42</td>\n",
       "      <td>0.11</td>\n",
       "      <td>0.89</td>\n",
       "      <td>0.70</td>\n",
       "      <td>5</td>\n",
       "    </tr>\n",
       "    <tr>\n",
       "      <th>6</th>\n",
       "      <td>0.15</td>\n",
       "      <td>0.28</td>\n",
       "      <td>0.10</td>\n",
       "      <td>0.91</td>\n",
       "      <td>0.71</td>\n",
       "      <td>0.19</td>\n",
       "      <td>0.39</td>\n",
       "      <td>0.10</td>\n",
       "      <td>0.89</td>\n",
       "      <td>0.71</td>\n",
       "      <td>6</td>\n",
       "    </tr>\n",
       "    <tr>\n",
       "      <th>7</th>\n",
       "      <td>0.14</td>\n",
       "      <td>0.24</td>\n",
       "      <td>0.10</td>\n",
       "      <td>0.93</td>\n",
       "      <td>0.73</td>\n",
       "      <td>0.18</td>\n",
       "      <td>0.37</td>\n",
       "      <td>0.10</td>\n",
       "      <td>0.90</td>\n",
       "      <td>0.72</td>\n",
       "      <td>7</td>\n",
       "    </tr>\n",
       "    <tr>\n",
       "      <th>8</th>\n",
       "      <td>0.13</td>\n",
       "      <td>0.21</td>\n",
       "      <td>0.10</td>\n",
       "      <td>0.94</td>\n",
       "      <td>0.73</td>\n",
       "      <td>0.18</td>\n",
       "      <td>0.37</td>\n",
       "      <td>0.10</td>\n",
       "      <td>0.90</td>\n",
       "      <td>0.73</td>\n",
       "      <td>8</td>\n",
       "    </tr>\n",
       "    <tr>\n",
       "      <th>9</th>\n",
       "      <td>0.13</td>\n",
       "      <td>0.21</td>\n",
       "      <td>0.09</td>\n",
       "      <td>0.93</td>\n",
       "      <td>0.74</td>\n",
       "      <td>0.17</td>\n",
       "      <td>0.36</td>\n",
       "      <td>0.10</td>\n",
       "      <td>0.90</td>\n",
       "      <td>0.73</td>\n",
       "      <td>9</td>\n",
       "    </tr>\n",
       "  </tbody>\n",
       "</table>\n",
       "</div>"
      ],
      "text/plain": [
       "   train_loss  train_intent_loss  train_entity_loss  train_intent_acc  \\\n",
       "0        0.69               1.00               0.56              0.70   \n",
       "1        0.58               0.89               0.45              0.73   \n",
       "2        0.42               0.80               0.25              0.75   \n",
       "3        0.24               0.52               0.12              0.84   \n",
       "4        0.20               0.40               0.11              0.88   \n",
       "5        0.17               0.31               0.11              0.91   \n",
       "6        0.15               0.28               0.10              0.91   \n",
       "7        0.14               0.24               0.10              0.93   \n",
       "8        0.13               0.21               0.10              0.94   \n",
       "9        0.13               0.21               0.09              0.93   \n",
       "\n",
       "   train_entity_f1  val_loss  val_intent_loss  val_entity_loss  \\\n",
       "0             0.04      0.62             1.06             0.44   \n",
       "1             0.02      0.58             1.01             0.40   \n",
       "2             0.33      0.31             0.74             0.13   \n",
       "3             0.63      0.24             0.54             0.11   \n",
       "4             0.65      0.22             0.47             0.11   \n",
       "5             0.68      0.20             0.42             0.11   \n",
       "6             0.71      0.19             0.39             0.10   \n",
       "7             0.73      0.18             0.37             0.10   \n",
       "8             0.73      0.18             0.37             0.10   \n",
       "9             0.74      0.17             0.36             0.10   \n",
       "\n",
       "   val_intent_acc  val_entity_f1  epoch  \n",
       "0            0.71           0.03      0  \n",
       "1            0.71           0.03      1  \n",
       "2            0.81           0.58      2  \n",
       "3            0.85           0.64      3  \n",
       "4            0.87           0.65      4  \n",
       "5            0.89           0.70      5  \n",
       "6            0.89           0.71      6  \n",
       "7            0.90           0.72      7  \n",
       "8            0.90           0.73      8  \n",
       "9            0.90           0.73      9  "
      ]
     },
     "execution_count": 8,
     "metadata": {},
     "output_type": "execute_result"
    }
   ],
   "source": [
    "df = pd.DataFrame(custom_metrics)\n",
    "df.round(2)"
   ]
  },
  {
   "cell_type": "code",
   "execution_count": 9,
   "id": "af1e0045",
   "metadata": {},
   "outputs": [
    {
     "ename": "NameError",
     "evalue": "name 'metrics' is not defined",
     "output_type": "error",
     "traceback": [
      "\u001b[0;31m---------------------------------------------------------------------------\u001b[0m",
      "\u001b[0;31mNameError\u001b[0m                                 Traceback (most recent call last)",
      "Cell \u001b[0;32mIn[9], line 1\u001b[0m\n\u001b[0;32m----> 1\u001b[0m plot_metrics(\u001b[43mmetrics\u001b[49m)\n",
      "\u001b[0;31mNameError\u001b[0m: name 'metrics' is not defined"
     ]
    }
   ],
   "source": [
    "\n",
    "plot_metrics(metrics)"
   ]
  }
 ],
 "metadata": {
  "kernelspec": {
   "display_name": "multi_rl",
   "language": "python",
   "name": "python3"
  },
  "language_info": {
   "codemirror_mode": {
    "name": "ipython",
    "version": 3
   },
   "file_extension": ".py",
   "mimetype": "text/x-python",
   "name": "python",
   "nbconvert_exporter": "python",
   "pygments_lexer": "ipython3",
   "version": "3.10.15"
  }
 },
 "nbformat": 4,
 "nbformat_minor": 5
}
