{
 "cells": [
  {
   "cell_type": "code",
   "execution_count": 29,
   "id": "62d3a826",
   "metadata": {},
   "outputs": [],
   "source": [
    "import pandas as pd\n",
    "import torch\n",
    "from itertools import zip_longest\n",
    "\n",
    "# local imports\n",
    "from src.dataset import load_dataset\n",
    "from src.train   import train_model\n",
    "from src.models  import ATISMultiTaskModel as Model\n",
    "from src.models  import SentenceEncoder as Encoder\n",
    "from src.utils   import plot_metrics\n",
    "\n",
    "import warnings\n",
    "warnings.filterwarnings('ignore')\n",
    "\n",
    "device = torch.device(\"cuda\" if torch.cuda.is_available() else \"cpu\")"
   ]
  },
  {
   "cell_type": "markdown",
   "id": "65307468",
   "metadata": {},
   "source": [
    "### Data"
   ]
  },
  {
   "cell_type": "code",
   "execution_count": 49,
   "id": "890a791d",
   "metadata": {},
   "outputs": [],
   "source": [
    "train_ds, val_ds = load_dataset('data')"
   ]
  },
  {
   "cell_type": "code",
   "execution_count": 50,
   "id": "386a6a42",
   "metadata": {},
   "outputs": [
    {
     "name": "stdout",
     "output_type": "stream",
     "text": [
      "     Word       | TokenID |    Entity    | EntID  | Mask\n",
      "--------------------------------------------------------\n",
      "       i        |  1045   |      X       |   4    |  1 \n",
      "     need       |  2342   |      X       |   4    |  1 \n",
      "       a        |  1037   |      X       |   4    |  1 \n",
      "    flight      |  3462   |      X       |   4    |  1 \n",
      "   tomorrow     |  4826   |   DateTime   |   6    |  1 \n",
      "     from       |  2013   |      X       |   4    |  1 \n",
      "   columbus     |  8912   |   Location   |   2    |  1 \n",
      "      to        |  2000   |      X       |   4    |  1 \n",
      "  minneapolis   |  11334  |   Location   |   2    |  1 \n",
      "     [PAD]      |    0    |    [PAD]     |   0    |  0 \n",
      "     [PAD]      |    0    |    [PAD]     |   0    |  0 \n",
      "     [PAD]      |    0    |    [PAD]     |   0    |  0 \n"
     ]
    }
   ],
   "source": [
    "\n",
    "'''Demonstration puspose only'''\n",
    "\n",
    "record = train_ds[5]\n",
    "gt = record['gt']\n",
    "\n",
    "words      = gt[1].split()\n",
    "\n",
    "# pull out the first 12 of each\n",
    "tokens     = record['input_ids'].tolist()[:12]\n",
    "entities   = gt[2][:12]\n",
    "entity_ids = record['slot_labels'].tolist()[:12] # type: ignore\n",
    "mask       = record['attention_mask'].tolist()[:12]\n",
    "\n",
    "# zip them together and print a table\n",
    "header = f\"{'Word':^15s} | {'TokenID':^7s} | {'Entity':^12s} | {'EntID':^6s} | {'Mask':^4s}\"\n",
    "print(header)\n",
    "print(\"-\" * len(header))\n",
    "for w, t, e, eid, m in zip_longest(words, tokens, entities, entity_ids, mask, fillvalue=\"[PAD]\"):\n",
    "    print(f\"{w:^15s} | {str(t):^7s} | {e:^12s} | {str(eid):^6s} | {str(m):^3s}\")"
   ]
  },
  {
   "cell_type": "markdown",
   "id": "cb609ac9",
   "metadata": {},
   "source": [
    "##### Dataset Overview\n",
    "\n",
    "This project uses a **curated subset** of the Airline Travel Information System (ATIS) corpus. Each example consists of a user’s flight-related utterance, annotated with:\n",
    "\n",
    "- **Intent**: the user’s overall goal (e.g. searching for flights, checking fares).  \n",
    "- **Entities**: token-level labels indicating semantic categories (e.g. cities, times).\n",
    "\n",
    "---\n",
    "\n",
    "##### Example Record\n",
    "\n",
    "```json\n",
    "{\n",
    "  \"text\": \"i need a flight tomorrow from columbus to minneapolis\",\n",
    "  \"entities\": [\"X\", \"X\", \"X\", \"X\", \"DateTime\", \"X\", \"Location\", \"X\", \"Location\"],\n",
    "  \"intent\":   \"Flight\"\n",
    "}\n",
    "```\n",
    "---\n",
    "\n",
    "\n",
    "Here:\n",
    "\n",
    "- **text**: raw user utterance  \n",
    "- **entities**: one tag per token (’X’ = no entity)  \n",
    "- **intent**: high-level query category  \n",
    "> **Note:** `X` corresponds to 'other (uninteresting)' category.\n",
    "\n",
    "##### Modeling Tasks\n",
    "\n",
    "1. Intent Classification  \n",
    "   Build a classifier that takes an utterance and predicts its **intent** label (0–7).\n",
    "\n",
    "2. Named Entity Recognition (NER)  \n",
    "   Perform token-level labeling to assign each word in the utterance one of the **entity** tags (0–9).\n",
    "\n",
    "\n",
    "##### Dataset\n",
    "The data set consists of below keys\n",
    "- **input_ids**: the text tokenized using bert tokenizer consisting of a vocab of size 30522\n",
    "- **attention_mask**: 1 where word valid 0 for padding\n",
    "- **intent_label**: label encoded intent\n",
    "- **slot_labels**: label encoded entities / slot\n",
    "\n",
    "All sentences are padded to `100` while 0 represents padding for all positions except intent_label\n",
    "> **Assumption**: BERT tokenizer adds special tokens ([CLS], [SEP]) which has been disabled and a naive `one-entity-per-word` is assumed. \n",
    "\n",
    "please note: through out the project slot and entity are used to convey the same thing. \n",
    "The original dataset as slot hence the ambiguity. \n",
    "\n",
    "\n",
    "For additional filtering steps and exploratory data analysis, please see `notebooks/dataset.ipynb`."
   ]
  },
  {
   "cell_type": "markdown",
   "id": "dff02404",
   "metadata": {},
   "source": [
    "### Task 1: Sentence Transformer Implementation"
   ]
  },
  {
   "cell_type": "code",
   "execution_count": 27,
   "id": "47490084",
   "metadata": {},
   "outputs": [],
   "source": [
    "encoder = Encoder(\"custom\", 128).to(device)"
   ]
  },
  {
   "cell_type": "markdown",
   "id": "e676fa02",
   "metadata": {},
   "source": [
    "above is the encoder transformer constisting of a simple transformer archecture.\n",
    "embedding layer \n",
    "Positional encoding \n"
   ]
  },
  {
   "cell_type": "code",
   "execution_count": 16,
   "id": "24c518cc",
   "metadata": {},
   "outputs": [
    {
     "data": {
      "text/plain": [
       "torch.Size([1, 128])"
      ]
     },
     "execution_count": 16,
     "metadata": {},
     "output_type": "execute_result"
    }
   ],
   "source": [
    "record         = val_ds[130]\n",
    "input_ids      = record['input_ids'].unsqueeze(0).to(device)\n",
    "attention_mask = record['attention_mask'].unsqueeze(0).to(device)\n",
    "\n",
    "with torch.no_grad():\n",
    "    embeddings = encoder(input_ids, attention_mask)\n",
    "    \n",
    "embeddings.shape"
   ]
  },
  {
   "cell_type": "markdown",
   "id": "226b127b",
   "metadata": {},
   "source": [
    "### Task 2: Multi-Task Learning Expansion "
   ]
  },
  {
   "cell_type": "code",
   "execution_count": 17,
   "id": "f6d8377f",
   "metadata": {},
   "outputs": [],
   "source": [
    "model = Model(encoder).to(device)"
   ]
  },
  {
   "cell_type": "code",
   "execution_count": null,
   "id": "23709602",
   "metadata": {},
   "outputs": [],
   "source": [
    "metrics = train_model(train_ds, val_ds, model, epochs=5)"
   ]
  },
  {
   "cell_type": "markdown",
   "id": "dbdaf9bf",
   "metadata": {},
   "source": [
    "### Task 3: Training Considerations "
   ]
  },
  {
   "cell_type": "markdown",
   "id": "c6616ff8",
   "metadata": {},
   "source": [
    "### Task 4: Training Loop Implementation (BONUS)"
   ]
  },
  {
   "cell_type": "markdown",
   "id": "1f468e58",
   "metadata": {},
   "source": [
    "### Metrics "
   ]
  },
  {
   "cell_type": "code",
   "execution_count": 11,
   "id": "b7f4d29e",
   "metadata": {},
   "outputs": [
    {
     "data": {
      "text/html": [
       "<div>\n",
       "<style scoped>\n",
       "    .dataframe tbody tr th:only-of-type {\n",
       "        vertical-align: middle;\n",
       "    }\n",
       "\n",
       "    .dataframe tbody tr th {\n",
       "        vertical-align: top;\n",
       "    }\n",
       "\n",
       "    .dataframe thead th {\n",
       "        text-align: right;\n",
       "    }\n",
       "</style>\n",
       "<table border=\"1\" class=\"dataframe\">\n",
       "  <thead>\n",
       "    <tr style=\"text-align: right;\">\n",
       "      <th></th>\n",
       "      <th>train_loss</th>\n",
       "      <th>train_intent_loss</th>\n",
       "      <th>train_entity_loss</th>\n",
       "      <th>train_intent_acc</th>\n",
       "      <th>train_entity_f1</th>\n",
       "      <th>val_loss</th>\n",
       "      <th>val_intent_loss</th>\n",
       "      <th>val_entity_loss</th>\n",
       "      <th>val_intent_acc</th>\n",
       "      <th>val_entity_f1</th>\n",
       "      <th>epoch</th>\n",
       "    </tr>\n",
       "  </thead>\n",
       "  <tbody>\n",
       "    <tr>\n",
       "      <th>0</th>\n",
       "      <td>1.83</td>\n",
       "      <td>1.08</td>\n",
       "      <td>0.75</td>\n",
       "      <td>0.70</td>\n",
       "      <td>0.18</td>\n",
       "      <td>1.51</td>\n",
       "      <td>1.04</td>\n",
       "      <td>0.47</td>\n",
       "      <td>0.71</td>\n",
       "      <td>0.19</td>\n",
       "      <td>0</td>\n",
       "    </tr>\n",
       "    <tr>\n",
       "      <th>1</th>\n",
       "      <td>1.40</td>\n",
       "      <td>0.91</td>\n",
       "      <td>0.49</td>\n",
       "      <td>0.73</td>\n",
       "      <td>0.18</td>\n",
       "      <td>1.49</td>\n",
       "      <td>1.03</td>\n",
       "      <td>0.46</td>\n",
       "      <td>0.71</td>\n",
       "      <td>0.19</td>\n",
       "      <td>1</td>\n",
       "    </tr>\n",
       "    <tr>\n",
       "      <th>2</th>\n",
       "      <td>1.38</td>\n",
       "      <td>0.90</td>\n",
       "      <td>0.48</td>\n",
       "      <td>0.73</td>\n",
       "      <td>0.18</td>\n",
       "      <td>1.48</td>\n",
       "      <td>1.03</td>\n",
       "      <td>0.45</td>\n",
       "      <td>0.71</td>\n",
       "      <td>0.19</td>\n",
       "      <td>2</td>\n",
       "    </tr>\n",
       "    <tr>\n",
       "      <th>3</th>\n",
       "      <td>1.38</td>\n",
       "      <td>0.90</td>\n",
       "      <td>0.47</td>\n",
       "      <td>0.73</td>\n",
       "      <td>0.18</td>\n",
       "      <td>1.47</td>\n",
       "      <td>1.02</td>\n",
       "      <td>0.45</td>\n",
       "      <td>0.71</td>\n",
       "      <td>0.19</td>\n",
       "      <td>3</td>\n",
       "    </tr>\n",
       "    <tr>\n",
       "      <th>4</th>\n",
       "      <td>1.37</td>\n",
       "      <td>0.90</td>\n",
       "      <td>0.47</td>\n",
       "      <td>0.73</td>\n",
       "      <td>0.18</td>\n",
       "      <td>1.47</td>\n",
       "      <td>1.02</td>\n",
       "      <td>0.45</td>\n",
       "      <td>0.71</td>\n",
       "      <td>0.19</td>\n",
       "      <td>4</td>\n",
       "    </tr>\n",
       "  </tbody>\n",
       "</table>\n",
       "</div>"
      ],
      "text/plain": [
       "   train_loss  train_intent_loss  train_entity_loss  train_intent_acc  \\\n",
       "0        1.83               1.08               0.75              0.70   \n",
       "1        1.40               0.91               0.49              0.73   \n",
       "2        1.38               0.90               0.48              0.73   \n",
       "3        1.38               0.90               0.47              0.73   \n",
       "4        1.37               0.90               0.47              0.73   \n",
       "\n",
       "   train_entity_f1  val_loss  val_intent_loss  val_entity_loss  \\\n",
       "0             0.18      1.51             1.04             0.47   \n",
       "1             0.18      1.49             1.03             0.46   \n",
       "2             0.18      1.48             1.03             0.45   \n",
       "3             0.18      1.47             1.02             0.45   \n",
       "4             0.18      1.47             1.02             0.45   \n",
       "\n",
       "   val_intent_acc  val_entity_f1  epoch  \n",
       "0            0.71           0.19      0  \n",
       "1            0.71           0.19      1  \n",
       "2            0.71           0.19      2  \n",
       "3            0.71           0.19      3  \n",
       "4            0.71           0.19      4  "
      ]
     },
     "execution_count": 11,
     "metadata": {},
     "output_type": "execute_result"
    }
   ],
   "source": [
    "df = pd.DataFrame(metrics)\n",
    "df.round(2)"
   ]
  },
  {
   "cell_type": "code",
   "execution_count": 12,
   "id": "af1e0045",
   "metadata": {},
   "outputs": [
    {
     "data": {
      "image/png": "[encoded data removed]",
      "text/plain": [
       "<Figure size 1200x800 with 4 Axes>"
      ]
     },
     "metadata": {},
     "output_type": "display_data"
    }
   ],
   "source": [
    "\n",
    "plot_metrics(metrics)"
   ]
  }
 ],
 "metadata": {
  "kernelspec": {
   "display_name": "multi_rl",
   "language": "python",
   "name": "python3"
  },
  "language_info": {
   "codemirror_mode": {
    "name": "ipython",
    "version": 3
   },
   "file_extension": ".py",
   "mimetype": "text/x-python",
   "name": "python",
   "nbconvert_exporter": "python",
   "pygments_lexer": "ipython3",
   "version": "3.10.15"
  }
 },
 "nbformat": 4,
 "nbformat_minor": 5
}
